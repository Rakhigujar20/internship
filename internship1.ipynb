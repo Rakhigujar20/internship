{
 "cells": [
  {
   "cell_type": "code",
   "execution_count": 12,
   "id": "c67ce3b4",
   "metadata": {},
   "outputs": [],
   "source": [
    "import re"
   ]
  },
  {
   "cell_type": "code",
   "execution_count": 27,
   "id": "faa209e9",
   "metadata": {},
   "outputs": [
    {
     "name": "stdout",
     "output_type": "stream",
     "text": [
      "Python:Exercises::PHP:exercises:\n"
     ]
    }
   ],
   "source": [
    "y = r\"[ ,.]\"\n",
    "text = 'Python Exercises, PHP exercises.'\n",
    "\n",
    "replaced_text = re.sub(y, \":\", text)\n",
    "print(replaced_text)"
   ]
  },
  {
   "cell_type": "code",
   "execution_count": 28,
   "id": "8b533ed2",
   "metadata": {},
   "outputs": [],
   "source": [
    "import pandas as pd\n",
    "import re\n"
   ]
  },
  {
   "cell_type": "code",
   "execution_count": 52,
   "id": "2cf77cc1",
   "metadata": {},
   "outputs": [],
   "source": [
    "data = {'SUMMARY' : ['hello, world!', 'XXXXX test', '123four, five:; six...']}\n",
    "df = pd.DataFrame(data)"
   ]
  },
  {
   "cell_type": "code",
   "execution_count": 53,
   "id": "f9268c07",
   "metadata": {},
   "outputs": [],
   "source": [
    "df['SUMMARY'] = df['SUMMARY'].apply(lambda x: re.sub(r'[^a-zA-Z\\s]', '', x))"
   ]
  },
  {
   "cell_type": "code",
   "execution_count": 54,
   "id": "9c0ba2ec",
   "metadata": {},
   "outputs": [
    {
     "name": "stdout",
     "output_type": "stream",
     "text": [
      "         SUMMARY\n",
      "0    hello world\n",
      "1     XXXXX test\n",
      "2  four five six\n"
     ]
    }
   ],
   "source": [
    "print (df)"
   ]
  },
  {
   "cell_type": "code",
   "execution_count": 55,
   "id": "7525b0c6",
   "metadata": {},
   "outputs": [],
   "source": [
    "import re\n"
   ]
  },
  {
   "cell_type": "code",
   "execution_count": 61,
   "id": "46ffa500",
   "metadata": {},
   "outputs": [
    {
     "name": "stdout",
     "output_type": "stream",
     "text": [
      "['Money', 'very', 'important', 'life']\n"
     ]
    }
   ],
   "source": [
    "text = 'Money is very important in life.'\n",
    "matches = re.findall(r\"\\b\\w{4,}\\b\",text)\n",
    "print (matches)"
   ]
  },
  {
   "cell_type": "code",
   "execution_count": 65,
   "id": "6a4a17d9",
   "metadata": {},
   "outputs": [
    {
     "name": "stdout",
     "output_type": "stream",
     "text": [
      "['dream', 'city']\n"
     ]
    }
   ],
   "source": [
    "text = 'london is my dream city'\n",
    "matches = re.findall(r\"\\b\\w{3,5}\\b\",text)\n",
    "print (matches)"
   ]
  },
  {
   "cell_type": "code",
   "execution_count": 99,
   "id": "fdf4d4a4",
   "metadata": {},
   "outputs": [
    {
     "name": "stdout",
     "output_type": "stream",
     "text": [
      "example\n",
      "hr@fliprobo\n",
      "github\n",
      "Hello\n",
      "Data\n"
     ]
    }
   ],
   "source": [
    "import re\n",
    "items = [\"example (.com)\", \"hr@fliprobo (.com)\", \"github (.com)\", \"Hello (Data Science World)\", \"Data (Scientist)\"]\n",
    "for item in items:\n",
    "    print(re.sub(r\" \\([^)]+\\)\", \"\", item))"
   ]
  },
  {
   "cell_type": "code",
   "execution_count": 106,
   "id": "b94cf655",
   "metadata": {},
   "outputs": [
    {
     "name": "stdout",
     "output_type": "stream",
     "text": [
      "['I', 'O', 'R', 'E', 'I', 'P']\n"
     ]
    }
   ],
   "source": [
    "text = \"ImportanceOfRegularExpressionsInPython\"\n",
    "matches = re.findall(r'[A-Z]',text)\n",
    "print (matches)"
   ]
  },
  {
   "cell_type": "code",
   "execution_count": 113,
   "id": "84a7e2bf",
   "metadata": {},
   "outputs": [
    {
     "name": "stdout",
     "output_type": "stream",
     "text": [
      "RegularExpression1IsAn2ImportantTopic3InPython\n"
     ]
    }
   ],
   "source": [
    "text = \"RegularExpression1IsAn2ImportantTopic3InPython\"\n",
    "matches = re.sub(r'(\\d)([a-zA-Z])',r'\\1\\2',text)\n",
    "print (matches)"
   ]
  },
  {
   "cell_type": "code",
   "execution_count": 118,
   "id": "67821341",
   "metadata": {},
   "outputs": [
    {
     "name": "stdout",
     "output_type": "stream",
     "text": [
      "<re.Match object; span=(0, 21), match='India is the best_123'>\n"
     ]
    }
   ],
   "source": [
    "pattern = r\"[a-zA-Z0-9_]*$\"\n",
    "text = \"India is the best_123\"\n",
    "x = re.search (\"India is the best_123\",text)\n",
    "print (x)"
   ]
  },
  {
   "cell_type": "code",
   "execution_count": 123,
   "id": "21caaa82",
   "metadata": {},
   "outputs": [
    {
     "name": "stdout",
     "output_type": "stream",
     "text": [
      "['50']\n"
     ]
    }
   ],
   "source": [
    "pattern ='\\d+' \n",
    "text = '50 apples in one basket'\n",
    "matches = re.findall(pattern,text)\n",
    "print (matches)\n"
   ]
  },
  {
   "cell_type": "code",
   "execution_count": 135,
   "id": "fd03abd0",
   "metadata": {},
   "outputs": [
    {
     "name": "stdout",
     "output_type": "stream",
     "text": [
      "12.1.65.87\n"
     ]
    }
   ],
   "source": [
    "y = r'[0]'\n",
    "Ip = '102.10.65.87'\n",
    "\n",
    "string = re.sub(y,\"\",Ip)\n",
    "print(string)"
   ]
  },
  {
   "cell_type": "code",
   "execution_count": 136,
   "id": "8b29ee6b",
   "metadata": {},
   "outputs": [
    {
     "name": "stdout",
     "output_type": "stream",
     "text": [
      "Searching for \"fox\" in \"The quick brown fox jumps over the lazy dog.\" ->\n",
      "Matched!\n",
      "Searching for \"dog\" in \"The quick brown fox jumps over the lazy dog.\" ->\n",
      "Matched!\n",
      "Searching for \"horse\" in \"The quick brown fox jumps over the lazy dog.\" ->\n",
      "Not Matched!\n"
     ]
    }
   ],
   "source": [
    "patterns = [ 'fox', 'dog', 'horse' ]\n",
    "text = 'The quick brown fox jumps over the lazy dog.'\n",
    "for pattern in patterns:\n",
    "    print('Searching for \"%s\" in \"%s\" ->' % (pattern, text),)\n",
    "    if re.search(pattern,  text):\n",
    "        print('Matched!')\n",
    "    else:\n",
    "        print('Not Matched!')"
   ]
  },
  {
   "cell_type": "code",
   "execution_count": 138,
   "id": "c53b9adc",
   "metadata": {},
   "outputs": [
    {
     "name": "stdout",
     "output_type": "stream",
     "text": [
      "Found \"fox\" in \"The quick brown fox jumps over the lazy dog.\" from 16 to 19 \n"
     ]
    }
   ],
   "source": [
    "import re\n",
    "pattern = 'fox'\n",
    "text = 'The quick brown fox jumps over the lazy dog.'\n",
    "match = re.search(pattern, text)\n",
    "s = match.start()\n",
    "e = match.end()\n",
    "print('Found \"%s\" in \"%s\" from %d to %d ' % \\\n",
    "    (match.re.pattern, match.string, s, e))\n"
   ]
  },
  {
   "cell_type": "code",
   "execution_count": 142,
   "id": "7fe2ac90",
   "metadata": {},
   "outputs": [
    {
     "name": "stdout",
     "output_type": "stream",
     "text": [
      "['exercises', 'exercises', 'exercises']\n"
     ]
    }
   ],
   "source": [
    "\n",
    "text = 'Python exercises, PHP exercises, C# exercises'\n",
    "pattern = 'exercises'\n",
    "match = re.findall(pattern, text)\n",
    "print (match)"
   ]
  },
  {
   "cell_type": "code",
   "execution_count": null,
   "id": "fefbfe12",
   "metadata": {},
   "outputs": [],
   "source": [
    "pattern = r'\\b\\d+\\.\\d{1,2}\\b'\n",
    "\n",
    "input_string = \"01.12 0132.123 2.31875 145.8 3.01 27.25 0.25\"\n",
    "\n",
    "matches = re.findall(pattern, input_string )\n",
    "print(matches)\n"
   ]
  },
  {
   "cell_type": "code",
   "execution_count": null,
   "id": "9073d8c0",
   "metadata": {},
   "outputs": [],
   "source": [
    "def print_numbers_and_positions(input_string):\n",
    "    for i, char in enumerate(input_string):\n",
    "        if char.isdigit():\n",
    "            print(f\"Number: {char}, Position: {i + 1}\")\n",
    "\n",
    "# Example usage:\n",
    "input_string = \"Hello123World456\"\n",
    "print_numbers_and_positions(input_string)\n"
   ]
  },
  {
   "cell_type": "code",
   "execution_count": null,
   "id": "5bc4e3c7",
   "metadata": {},
   "outputs": [],
   "source": []
  }
 ],
 "metadata": {
  "kernelspec": {
   "display_name": "Python 3 (ipykernel)",
   "language": "python",
   "name": "python3"
  },
  "language_info": {
   "codemirror_mode": {
    "name": "ipython",
    "version": 3
   },
   "file_extension": ".py",
   "mimetype": "text/x-python",
   "name": "python",
   "nbconvert_exporter": "python",
   "pygments_lexer": "ipython3",
   "version": "3.10.9"
  }
 },
 "nbformat": 4,
 "nbformat_minor": 5
}
