{
 "cells": [
  {
   "cell_type": "code",
   "execution_count": 20,
   "id": "ce637dc7",
   "metadata": {
    "scrolled": true
   },
   "outputs": [
    {
     "name": "stdout",
     "output_type": "stream",
     "text": [
      "['01.12', '145.8', '3.01', '27.25', '0.25']\n"
     ]
    }
   ],
   "source": [
    "pattern = r'\\b\\d+\\.\\d{1,2}\\b'\n",
    "\n",
    "input_string = \"01.12 0132.123 2.31875 145.8 3.01 27.25 0.25\"\n",
    "\n",
    "matches = re.findall(pattern, input_string )\n",
    "print(matches)\n",
    "\n",
    "\n",
    "\n"
   ]
  },
  {
   "cell_type": "code",
   "execution_count": 21,
   "id": "f8144a48",
   "metadata": {},
   "outputs": [
    {
     "name": "stdout",
     "output_type": "stream",
     "text": [
      "50\n",
      "Index position: 62\n"
     ]
    }
   ],
   "source": [
    "import re\n",
    "# Input.\n",
    "text = \"The following example creates an ArrayList with a capacity of 50 elements. Four elements are then added to the ArrayList and the ArrayList is trimmed accordingly.\"\n",
    "\n",
    "for m in re.finditer(\"\\d+\", text):\n",
    "    print(m.group(0))\n",
    "    print(\"Index position:\", m.start())\n",
    "\t"
   ]
  },
  {
   "cell_type": "code",
   "execution_count": 23,
   "id": "ee0f5fa6",
   "metadata": {},
   "outputs": [
    {
     "name": "stdout",
     "output_type": "stream",
     "text": [
      "Number: 50, Position: 10\n",
      "Number: 60, Position: 22\n"
     ]
    }
   ],
   "source": [
    "text = \"there are 50 apples & 60 mangoes\" \n",
    "\n",
    "for match in re.finditer(r'\\d+', text):\n",
    "    number = match.group(0)\n",
    "    position = match.start()\n",
    "    print(f\"Number: {number}, Position: {position}\")\n"
   ]
  },
  {
   "cell_type": "code",
   "execution_count": 24,
   "id": "e3ee295f",
   "metadata": {},
   "outputs": [
    {
     "name": "stdout",
     "output_type": "stream",
     "text": [
      "950\n"
     ]
    }
   ],
   "source": [
    "string='My marks in each semester are: 947, 896, 926, 524, 734, 950, 642'\n",
    "number = re.findall('\\d+', string)\n",
    "number = map(int, number)\n",
    "print(max(number))"
   ]
  },
  {
   "cell_type": "code",
   "execution_count": 25,
   "id": "896f6bb7",
   "metadata": {},
   "outputs": [
    {
     "name": "stdout",
     "output_type": "stream",
     "text": [
      "Regular Expression Is An Important Topic In Python\n"
     ]
    }
   ],
   "source": [
    "subject = \"RegularExpressionIsAnImportantTopicInPython\"\n",
    "x = re.sub(r'([a-z])([A-Z])',r'\\1 \\2',subject)\n",
    "print (x)"
   ]
  },
  {
   "cell_type": "code",
   "execution_count": 28,
   "id": "d80e9ee6",
   "metadata": {},
   "outputs": [
    {
     "name": "stdout",
     "output_type": "stream",
     "text": [
      "['Live', 'Mumbai']\n"
     ]
    }
   ],
   "source": [
    "text = \"I am Live in Mumbai.\"\n",
    "\n",
    "pattern = r'([A-Z][a-z]\\w+)'\n",
    "\n",
    "\n",
    "matches = re.findall(pattern, text)\n",
    "\n",
    "print(matches)\n"
   ]
  },
  {
   "cell_type": "code",
   "execution_count": null,
   "id": "dcd76ed2",
   "metadata": {},
   "outputs": [],
   "source": []
  }
 ],
 "metadata": {
  "kernelspec": {
   "display_name": "Python 3 (ipykernel)",
   "language": "python",
   "name": "python3"
  },
  "language_info": {
   "codemirror_mode": {
    "name": "ipython",
    "version": 3
   },
   "file_extension": ".py",
   "mimetype": "text/x-python",
   "name": "python",
   "nbconvert_exporter": "python",
   "pygments_lexer": "ipython3",
   "version": "3.10.9"
  }
 },
 "nbformat": 4,
 "nbformat_minor": 5
}
